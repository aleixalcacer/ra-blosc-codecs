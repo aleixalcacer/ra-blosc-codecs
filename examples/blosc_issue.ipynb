{
 "cells": [
  {
   "cell_type": "code",
   "execution_count": 1,
   "metadata": {
    "collapsed": true,
    "ExecuteTime": {
     "end_time": "2024-03-22T10:54:53.264807600Z",
     "start_time": "2024-03-22T10:54:51.631845100Z"
    }
   },
   "outputs": [],
   "source": [
    "import blosc2"
   ]
  },
  {
   "cell_type": "code",
   "execution_count": 68,
   "outputs": [],
   "source": [
    "import lz4.frame\n",
    "\n",
    "def dummy_filter_forward(input, output, meta, schunk: blosc2.SChunk):\n",
    "    print(input.nbytes)\n",
    "    print(schunk.blocksize)\n",
    "    # Copy the input buffer into the output buffer\n",
    "    output[0:len(input)] = input\n",
    "    # Return the length of the input buffer\n",
    "    return len(input)\n",
    "\n",
    "\n",
    "def dummy_filter_backward(input, output, meta, schunk: blosc2.SChunk):\n",
    "    # Copy the input buffer into the output buffer\n",
    "    output[0:len(input)] = input\n",
    "    # Return the length of the input buffer\n",
    "    return len(input)\n"
   ],
   "metadata": {
    "collapsed": false,
    "ExecuteTime": {
     "end_time": "2024-03-22T11:08:36.447598Z",
     "start_time": "2024-03-22T11:08:36.431088900Z"
    }
   }
  },
  {
   "cell_type": "code",
   "execution_count": 70,
   "outputs": [],
   "source": [
    "# Register the new filter\n",
    "\n",
    "filter_id = 162\n",
    "\n",
    "blosc2.register_filter(filter_id, dummy_filter_forward, dummy_filter_backward)"
   ],
   "metadata": {
    "collapsed": false,
    "ExecuteTime": {
     "end_time": "2024-03-22T11:08:39.180275300Z",
     "start_time": "2024-03-22T11:08:39.167753400Z"
    }
   }
  },
  {
   "cell_type": "code",
   "execution_count": 102,
   "outputs": [],
   "source": [
    "import numpy as np\n",
    "\n",
    "def lz4_encoder(input: np.ndarray, output, meta, schunk: blosc2.SChunk):\n",
    "    print(input.nbytes)\n",
    "    print(schunk.blocksize)\n",
    "    # Compress the input buffer using lz4\n",
    "    compressed = lz4.frame.compress(input)\n",
    "    # Copy the compressed buffer into the output buffer\n",
    "    output[0:len(compressed)] = np.frombuffer(compressed, dtype=np.uint8)\n",
    "    # Return the length of the compressed buffer\n",
    "    return len(compressed)\n",
    "\n",
    "\n",
    "def lz4_decoder(input, output, meta, schunk: blosc2.schunk):\n",
    "    # Decompress the input buffer using lz4\n",
    "    decompressed = lz4.frame.decompress(input)\n",
    "    # Copy the decompressed buffer into the output buffer\n",
    "    output[0:len(decompressed)] = np.frombuffer(decompressed, dtype=np.uint8)\n",
    "    # Return the length of the decompressed buffer\n",
    "    return len(decompressed)\n",
    "\n"
   ],
   "metadata": {
    "collapsed": false,
    "ExecuteTime": {
     "end_time": "2024-03-22T11:16:07.333329800Z",
     "start_time": "2024-03-22T11:16:07.317691100Z"
    }
   }
  },
  {
   "cell_type": "code",
   "execution_count": 104,
   "outputs": [],
   "source": [
    "# Register the new codec\n",
    "codec_id = 215\n",
    "\n",
    "blosc2.register_codec('lz4', codec_id, lz4_encoder, lz4_decoder)"
   ],
   "metadata": {
    "collapsed": false,
    "ExecuteTime": {
     "end_time": "2024-03-22T11:16:10.447175300Z",
     "start_time": "2024-03-22T11:16:10.434159500Z"
    }
   }
  },
  {
   "cell_type": "code",
   "execution_count": 109,
   "outputs": [],
   "source": [
    "import numpy as np\n",
    "\n",
    "a = np.arange(0, 1e6, dtype=np.float64).reshape(1000, 1000)\n",
    "\n",
    "chunks = (200, 200)\n",
    "blocks = (100, 100)"
   ],
   "metadata": {
    "collapsed": false,
    "ExecuteTime": {
     "end_time": "2024-03-22T11:17:41.519553200Z",
     "start_time": "2024-03-22T11:17:41.504595700Z"
    }
   }
  },
  {
   "cell_type": "code",
   "execution_count": 110,
   "outputs": [
    {
     "name": "stdout",
     "output_type": "stream",
     "text": [
      "80000\n",
      "80000\n",
      "80000\n",
      "80000\n",
      "80000\n",
      "80000\n",
      "80000\n",
      "80000\n",
      "80000\n",
      "80000\n",
      "80000\n",
      "80000\n",
      "80000\n",
      "80000\n",
      "80000\n",
      "80000\n",
      "80000\n",
      "80000\n",
      "80000\n",
      "80000\n",
      "80000\n",
      "80000\n",
      "80000\n",
      "80000\n",
      "80000\n",
      "80000\n",
      "80000\n",
      "80000\n",
      "80000\n",
      "80000\n",
      "80000\n",
      "80000\n",
      "80000\n",
      "80000\n",
      "80000\n",
      "80000\n",
      "80000\n",
      "80000\n",
      "80000\n",
      "80000\n",
      "80000\n",
      "80000\n",
      "80000\n",
      "80000\n",
      "80000\n",
      "80000\n",
      "80000\n",
      "80000\n",
      "80000\n",
      "80000\n",
      "80000\n",
      "80000\n",
      "80000\n",
      "80000\n",
      "80000\n",
      "80000\n",
      "80000\n",
      "80000\n",
      "80000\n",
      "80000\n",
      "80000\n",
      "80000\n",
      "80000\n",
      "80000\n",
      "80000\n",
      "80000\n",
      "80000\n",
      "80000\n",
      "80000\n",
      "80000\n",
      "80000\n",
      "80000\n",
      "80000\n",
      "80000\n",
      "80000\n",
      "80000\n",
      "80000\n",
      "80000\n",
      "80000\n",
      "80000\n",
      "80000\n",
      "80000\n",
      "80000\n",
      "80000\n",
      "80000\n",
      "80000\n",
      "80000\n",
      "80000\n",
      "80000\n",
      "80000\n",
      "80000\n",
      "80000\n",
      "80000\n",
      "80000\n",
      "80000\n",
      "80000\n",
      "80000\n",
      "80000\n",
      "80000\n",
      "80000\n",
      "80000\n",
      "80000\n",
      "80000\n",
      "80000\n",
      "80000\n",
      "80000\n",
      "80000\n",
      "80000\n",
      "80000\n",
      "80000\n",
      "80000\n",
      "80000\n",
      "80000\n",
      "80000\n",
      "80000\n",
      "80000\n",
      "80000\n",
      "80000\n",
      "80000\n",
      "80000\n",
      "80000\n",
      "80000\n",
      "80000\n",
      "80000\n",
      "80000\n",
      "80000\n",
      "80000\n",
      "80000\n",
      "80000\n",
      "80000\n",
      "80000\n",
      "80000\n",
      "80000\n",
      "80000\n",
      "80000\n",
      "80000\n",
      "80000\n",
      "80000\n",
      "80000\n",
      "80000\n",
      "80000\n",
      "80000\n",
      "80000\n",
      "80000\n",
      "80000\n",
      "80000\n",
      "80000\n",
      "80000\n",
      "80000\n",
      "80000\n",
      "80000\n",
      "80000\n",
      "80000\n",
      "80000\n",
      "80000\n",
      "80000\n",
      "80000\n",
      "80000\n",
      "80000\n",
      "80000\n",
      "80000\n",
      "80000\n",
      "80000\n",
      "80000\n",
      "80000\n",
      "80000\n",
      "80000\n",
      "80000\n",
      "80000\n",
      "80000\n",
      "80000\n",
      "80000\n",
      "80000\n",
      "80000\n",
      "80000\n",
      "80000\n",
      "80000\n",
      "80000\n",
      "80000\n",
      "80000\n",
      "80000\n",
      "80000\n",
      "80000\n",
      "80000\n",
      "80000\n",
      "80000\n",
      "80000\n",
      "80000\n",
      "80000\n",
      "80000\n",
      "80000\n",
      "80000\n",
      "80000\n",
      "80000\n",
      "80000\n",
      "80000\n",
      "80000\n",
      "80000\n",
      "80000\n",
      "80000\n"
     ]
    }
   ],
   "source": [
    "# Create a new schunk\n",
    "\n",
    "cparams = {\n",
    "    'codec': codec_id,\n",
    "    'nthreads': 1,\n",
    "    'filters': [],\n",
    "    'splitmode': blosc2.SplitMode.NEVER_SPLIT,\n",
    "}\n",
    "\n",
    "dparams = {\n",
    "    'nthreads': 1,\n",
    "}\n",
    "\n",
    "schunk = blosc2.asarray(a, chunks=chunks, blocks=blocks, cparams=cparams, dparams=dparams)\n",
    "\n"
   ],
   "metadata": {
    "collapsed": false,
    "ExecuteTime": {
     "end_time": "2024-03-22T11:17:42.549854300Z",
     "start_time": "2024-03-22T11:17:42.515344900Z"
    }
   }
  },
  {
   "cell_type": "code",
   "execution_count": 111,
   "outputs": [
    {
     "data": {
      "text/plain": "array([ 0.,  1.,  2.,  3.,  4.,  5.,  6.,  7.,  8.,  9., 10., 11., 12.,\n       13., 14., 15., 16., 17., 18., 19., 20., 21., 22., 23., 24., 25.,\n       26., 27., 28., 29., 30., 31., 32., 33., 34., 35., 36., 37., 38.,\n       39., 40., 41., 42., 43., 44., 45., 46., 47., 48., 49., 50., 51.,\n       52., 53., 54., 55., 56., 57., 58., 59., 60., 61., 62., 63., 64.,\n       65., 66., 67., 68., 69., 70., 71., 72., 73., 74., 75., 76., 77.,\n       78., 79., 80., 81., 82., 83., 84., 85., 86., 87., 88., 89., 90.,\n       91., 92., 93., 94., 95., 96., 97., 98., 99.])"
     },
     "execution_count": 111,
     "metadata": {},
     "output_type": "execute_result"
    }
   ],
   "source": [
    "schunk[0, 0:100]"
   ],
   "metadata": {
    "collapsed": false,
    "ExecuteTime": {
     "end_time": "2024-03-22T11:18:03.846178400Z",
     "start_time": "2024-03-22T11:18:03.826311700Z"
    }
   }
  },
  {
   "cell_type": "code",
   "execution_count": null,
   "outputs": [],
   "source": [],
   "metadata": {
    "collapsed": false
   }
  }
 ],
 "metadata": {
  "kernelspec": {
   "display_name": "Python 3",
   "language": "python",
   "name": "python3"
  },
  "language_info": {
   "codemirror_mode": {
    "name": "ipython",
    "version": 2
   },
   "file_extension": ".py",
   "mimetype": "text/x-python",
   "name": "python",
   "nbconvert_exporter": "python",
   "pygments_lexer": "ipython2",
   "version": "2.7.6"
  }
 },
 "nbformat": 4,
 "nbformat_minor": 0
}
